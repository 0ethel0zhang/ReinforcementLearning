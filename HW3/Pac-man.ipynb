{
 "cells": [
  {
   "cell_type": "code",
   "execution_count": 2,
   "metadata": {},
   "outputs": [],
   "source": [
    "import numpy as np\n",
    "import tensorflow as tf\n",
    "import gym, gym.spaces\n",
    "import logging\n",
    "import matplotlib.pyplot as plt"
   ]
  },
  {
   "cell_type": "code",
   "execution_count": 2,
   "metadata": {},
   "outputs": [],
   "source": [
    "logging.basicConfig(level=logging.DEBUG)"
   ]
  },
  {
   "cell_type": "code",
   "execution_count": 3,
   "metadata": {},
   "outputs": [
    {
     "name": "stderr",
     "output_type": "stream",
     "text": [
      "DEBUG:matplotlib.pyplot:Loaded backend module://ipykernel.pylab.backend_inline version unknown.\n"
     ]
    }
   ],
   "source": [
    "%matplotlib inline"
   ]
  },
  {
   "cell_type": "code",
   "execution_count": 21,
   "metadata": {},
   "outputs": [],
   "source": [
    "# parameters\n",
    "state_size = 7040\n",
    "hidden_size = 40"
   ]
  },
  {
   "cell_type": "code",
   "execution_count": 4,
   "metadata": {},
   "outputs": [
    {
     "name": "stderr",
     "output_type": "stream",
     "text": [
      "/home/u21910/.local/lib/python3.6/site-packages/gym/envs/registration.py:14: PkgResourcesDeprecationWarning: Parameters to load are deprecated.  Call .resolve and .require separately.\n",
      "  result = entry_point.load(False)\n"
     ]
    }
   ],
   "source": [
    "env = gym.make(\"MsPacman-v0\")"
   ]
  },
  {
   "cell_type": "code",
   "execution_count": 7,
   "metadata": {},
   "outputs": [],
   "source": [
    "pm_color = 210 + 164 +74"
   ]
  },
  {
   "cell_type": "code",
   "execution_count": 14,
   "metadata": {},
   "outputs": [],
   "source": [
    "# preprocess function\n",
    "def preprocess(image, first=False):\n",
    "    \"\"\" prepro 210x160x3 uint8 frame into 6400 (or 80x80) 2D float array \"\"\"\n",
    "    image = image[1:176:2,::2] # crop and downsize\n",
    "    image = image.sum(axis=2) # greyscale\n",
    "    image[image == pm_color] = 0 # improve contrast\n",
    "    image = (image//3 -128).astype(np.int8) # normalize from -128 to 127\n",
    "    if first:\n",
    "        return np.reshape(image.astype(np.float).ravel(), [1,80,80,1])\n",
    "    else:\n",
    "        return np.reshape(image.astype(np.float).ravel(), 7040)"
   ]
  },
  {
   "cell_type": "code",
   "execution_count": 15,
   "metadata": {},
   "outputs": [],
   "source": [
    "image = env.reset()"
   ]
  },
  {
   "cell_type": "code",
   "execution_count": 17,
   "metadata": {},
   "outputs": [],
   "source": [
    "# Deep Q Network setup\n",
    "class DeepQNetwork:\n",
    "\n",
    "    def __init__(self, n_actions, n_features, learning_rate=0.01,\n",
    "            reward_decay=0.99,\n",
    "            e_greedy=0.95,\n",
    "            update_params_step=300,\n",
    "            buffer_size=500,\n",
    "            batch_size=32,\n",
    "            output_graph=False,\n",
    "            hidden_size = 20):\n",
    "        \n",
    "        self.n_actions = n_actions\n",
    "        self.n_features = n_features\n",
    "        self.lr = learning_rate\n",
    "        self.gamma = reward_decay\n",
    "        self.replace_target_iter = update_params_step\n",
    "        self.buffer_size = buffer_size\n",
    "        self.batch_size = batch_size\n",
    "        self.epsilon = e_greedy\n",
    "\n",
    "        # total learning step\n",
    "        self.learn_step_counter = 0\n",
    "\n",
    "        # initialize zero memory [s, a, r, s_]\n",
    "        self.memory = np.zeros((self.buffer_size, n_features * 2 + 2))\n",
    "\n",
    "        # build two parrellel networks: target_net, evaluate_net\n",
    "        self._build_net()\n",
    "        t_params = tf.get_collection(tf.GraphKeys.GLOBAL_VARIABLES, scope='target_net')\n",
    "        e_params = tf.get_collection(tf.GraphKeys.GLOBAL_VARIABLES, scope='eval_net')\n",
    "\n",
    "        with tf.variable_scope('hard_replacement', reuse=tf.AUTO_REUSE):\n",
    "            self.target_replace_op = [tf.assign(t, e) for t, e in zip(t_params, e_params)]\n",
    "\n",
    "        self.sess = tf.Session()\n",
    "\n",
    "        if output_graph:\n",
    "            # to use tensorboard, type in terminal: tensorboard --logdir=logs\n",
    "            tf.summary.FileWriter(\"logs/\", self.sess.graph)\n",
    "\n",
    "        self.sess.run(tf.global_variables_initializer())\n",
    "        self.loss_his = []\n",
    "        self.max_q = []\n",
    "\n",
    "    def _build_net(self):\n",
    "        \"\"\"Builds 1) action prediction 2) q-net structures 3) loss calculation and minization structures\"\"\"\n",
    "        ## initialize inputs\n",
    "        self.s = tf.placeholder(tf.float32, [None, self.n_features], name='s')  # input State\n",
    "        self.s_ = tf.placeholder(tf.float32, [None, self.n_features], name='s_')  # input Next State\n",
    "        self.r = tf.placeholder(tf.float32, [None, ], name='r')  # input Reward\n",
    "        self.a = tf.placeholder(tf.int32, [None, ], name='a')  # input Action\n",
    "\n",
    "        w_initializer, b_initializer = tf.random_normal_initializer(0., 0.3), tf.constant_initializer(0.1)\n",
    "\n",
    "        ## build evaluate net for action predictions\n",
    "        with tf.variable_scope('eval_net', reuse=tf.AUTO_REUSE):\n",
    "            e1 = tf.layers.dense(self.s, hidden_size, tf.nn.relu, kernel_initializer=w_initializer, name='e1')\n",
    "            self.q_eval = tf.layers.dense(e1, self.n_actions, kernel_initializer=w_initializer,\n",
    "                                          bias_initializer=b_initializer, name='q')\n",
    "\n",
    "        ## build target_net for action predictions\n",
    "        with tf.variable_scope('target_net', reuse=tf.AUTO_REUSE):\n",
    "            t1 = tf.layers.dense(self.s_, hidden_size, tf.nn.relu, kernel_initializer=w_initializer, name='t1')\n",
    "            self.q_next = tf.layers.dense(t1, self.n_actions, kernel_initializer=w_initializer,\n",
    "                                          bias_initializer=b_initializer, name='t2')\n",
    "\n",
    "        # target Q value\n",
    "        with tf.variable_scope('q_target', reuse=tf.AUTO_REUSE):\n",
    "            q_target = self.r + self.gamma * tf.reduce_max(self.q_next, axis=1, name='Qmax_s_')    # shape=(None, )\n",
    "            self.q_target = tf.stop_gradient(q_target)\n",
    "        # evaluted Q value\n",
    "        with tf.variable_scope('q_eval', reuse=tf.AUTO_REUSE):\n",
    "            a_indices = tf.stack([tf.range(tf.shape(self.a)[0], dtype=tf.int32), self.a], axis=1)\n",
    "            self.q_eval_wrt_a = tf.gather_nd(params=self.q_eval, indices=a_indices)    # shape=(None, )\n",
    "        # loss function\n",
    "        with tf.variable_scope('loss', reuse=tf.AUTO_REUSE):\n",
    "            self.loss = tf.reduce_mean(tf.squared_difference(self.q_target, self.q_eval_wrt_a, name='TD_error'))\n",
    "        # minimize the difference\n",
    "        with tf.variable_scope('train', reuse=tf.AUTO_REUSE):\n",
    "            self._train_op = tf.train.RMSPropOptimizer(self.lr).minimize(self.loss)\n",
    "\n",
    "    def store_transition(self, s, a, r, s_):\n",
    "        \"\"\"Add a new experience to memory.\"\"\"\n",
    "        if not hasattr(self, 'memory_counter'):\n",
    "            self.memory_counter = 0\n",
    "        transition = np.hstack((s, [a, r], s_))\n",
    "        # replace the old memory with new memory\n",
    "        index = self.memory_counter % self.buffer_size\n",
    "        self.memory[index, :] = transition\n",
    "        self.memory_counter += 1\n",
    "\n",
    "    def choose_action(self, state):\n",
    "        \"\"\"Returns actions for given state as per current policy (epsilon greedy).\n",
    "        Params\n",
    "        ======\n",
    "            state (array_like [6400]): current state\n",
    "        \"\"\"\n",
    "        # reshape to the input shape of the tf variable\n",
    "        state = state[np.newaxis, :]\n",
    "        if np.random.uniform() < self.epsilon:\n",
    "            # forward feed the state and get q value for every actions\n",
    "            actions_value = self.sess.run(self.q_eval, feed_dict={self.s: state})\n",
    "            action = np.argmax(actions_value)\n",
    "        else:\n",
    "            action = np.random.randint(0, self.n_actions)\n",
    "        return action\n",
    "\n",
    "\n",
    "    def learn(self):\n",
    "        \"\"\"Update value parameters using given batch of experience tuples & then train the network.\"\"\"    \n",
    "        # check to replace target parameters\n",
    "        if self.learn_step_counter % self.replace_target_iter == 0:\n",
    "            self.sess.run(self.target_replace_op)\n",
    "            logging.info('\\nTarget Q-net parameters replaced')\n",
    "\n",
    "        # sample batch memory when memory is full\n",
    "        if self.memory_counter > self.buffer_size:\n",
    "            sample_index = np.random.choice(self.buffer_size, size=self.batch_size)\n",
    "        else:\n",
    "            sample_index = np.random.choice(self.memory_counter, size=self.batch_size)\n",
    "        batch_memory = self.memory[sample_index, :]\n",
    "\n",
    "        # train the nextwork\n",
    "        _, loss, q_n = self.sess.run(\n",
    "            [self._train_op, self.loss, self.q_eval_wrt_a],\n",
    "            feed_dict={\n",
    "                self.s: batch_memory[:, :self.n_features],\n",
    "                self.a: batch_memory[:, self.n_features],\n",
    "                self.r: batch_memory[:, self.n_features + 1],\n",
    "                self.s_: batch_memory[:, -self.n_features:],\n",
    "            })\n",
    "\n",
    "        # store the loss & q-value for inspection\n",
    "        self.loss_his.append(loss)\n",
    "        self.max_q.append(np.max(q_n))\n",
    "\n",
    "        # tracking training steps (for parameters update & plotting)\n",
    "        self.learn_step_counter += 1\n",
    "\n",
    "    def plot_loss(self):\n",
    "        \"\"\"Visualize loss in a graph.\"\"\"\n",
    "        plt.plot(np.arange(len(self.loss_his)), self.loss_his)\n",
    "        plt.ylabel('Loss')\n",
    "        plt.xlabel('Training steps')\n",
    "        plt.show()\n",
    "    \n",
    "    def plot_max_q(self):\n",
    "        \"\"\"Visualize max_q in a graph.\"\"\"\n",
    "        self.mean_max_q = [x[0]/x[1] for x in list(zip(np.cumsum(self.max_q), range(1,len(self.max_q)+1)))]\n",
    "        plt.plot(np.arange(len(self.mean_max_q)), self.mean_max_q)\n",
    "        plt.ylabel('Mean of Max Q Value')\n",
    "        plt.xlabel('Training steps')\n",
    "        plt.show()        "
   ]
  },
  {
   "cell_type": "code",
   "execution_count": 18,
   "metadata": {},
   "outputs": [],
   "source": [
    "# train network over episodes based on the DeepQNet\n",
    "def run_DQN(episodes):\n",
    "\n",
    "    # keep track of steps for learning resets\n",
    "    step = 0\n",
    "\n",
    "    for episode in range(episodes):\n",
    "\n",
    "        # initial state\n",
    "        state = env.reset()\n",
    "\n",
    "        while True:\n",
    "            \n",
    "            # RL choose action based on state\n",
    "            action = RL.choose_action(preprocess(state))\n",
    "\n",
    "            # RL take action and get next state and reward\n",
    "            state_, reward, done, info = env.step(action)\n",
    "\n",
    "            # RL save observed states to memory\n",
    "            RL.store_transition(preprocess(state), action, reward, preprocess(state_))\n",
    "            \n",
    "            # only learn when there are enough episodes\n",
    "            if (step > 200) and (step % 5 == 0):\n",
    "                RL.learn()\n",
    "\n",
    "            # next state as the current\n",
    "            state = state_\n",
    "\n",
    "            # break at end of an episode\n",
    "            if done:\n",
    "                break\n",
    "            step += 1\n",
    "\n",
    "    # end of game\n",
    "    logging.debug('Game Over')\n",
    "    env.close()"
   ]
  },
  {
   "cell_type": "code",
   "execution_count": 22,
   "metadata": {},
   "outputs": [
    {
     "name": "stderr",
     "output_type": "stream",
     "text": [
      "/home/u21910/.local/lib/python3.6/site-packages/gym/envs/registration.py:14: PkgResourcesDeprecationWarning: Parameters to load are deprecated.  Call .resolve and .require separately.\n",
      "  result = entry_point.load(False)\n"
     ]
    },
    {
     "data": {
      "image/png": "[encoded data removed]",
      "text/plain": [
       "<Figure size 432x288 with 1 Axes>"
      ]
     },
     "metadata": {},
     "output_type": "display_data"
    }
   ],
   "source": [
    "if __name__ == \"__main__\":\n",
    "\n",
    "    # breakout game\n",
    "    env = gym.make(\"MsPacman-v0\")\n",
    "\n",
    "    RL = DeepQNetwork(env.action_space.n, state_size,\n",
    "                      learning_rate=0.01,\n",
    "                      reward_decay=0.99,\n",
    "                      e_greedy=0.9,\n",
    "                      update_params_step=200,\n",
    "                      buffer_size=2000,\n",
    "                      hidden_size=20\n",
    "                      # output_graph=True\n",
    "                      )\n",
    "    \n",
    "    run_DQN(episodes=300)\n",
    "    \n",
    "    RL.plot_max_q()"
   ]
  }
 ],
 "metadata": {
  "kernelspec": {
   "display_name": "Python 3",
   "language": "python",
   "name": "python3"
  },
  "language_info": {
   "codemirror_mode": {
    "name": "ipython",
    "version": 3
   },
   "file_extension": ".py",
   "mimetype": "text/x-python",
   "name": "python",
   "nbconvert_exporter": "python",
   "pygments_lexer": "ipython3",
   "version": "3.6.5"
  },
  "varInspector": {
   "cols": {
    "lenName": 16,
    "lenType": 16,
    "lenVar": 40
   },
   "kernels_config": {
    "python": {
     "delete_cmd_postfix": "",
     "delete_cmd_prefix": "del ",
     "library": "var_list.py",
     "varRefreshCmd": "print(var_dic_list())"
    },
    "r": {
     "delete_cmd_postfix": ") ",
     "delete_cmd_prefix": "rm(",
     "library": "var_list.r",
     "varRefreshCmd": "cat(var_dic_list()) "
    }
   },
   "position": {
    "height": "407.86px",
    "left": "1166px",
    "right": "20px",
    "top": "120px",
    "width": "357px"
   },
   "types_to_exclude": [
    "module",
    "function",
    "builtin_function_or_method",
    "instance",
    "_Feature"
   ],
   "window_display": true
  }
 },
 "nbformat": 4,
 "nbformat_minor": 2
}
