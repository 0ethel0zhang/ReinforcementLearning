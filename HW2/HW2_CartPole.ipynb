{
 "cells": [
  {
   "cell_type": "code",
   "execution_count": 38,
   "metadata": {
    "collapsed": true
   },
   "outputs": [],
   "source": [
    "import os"
   ]
  },
  {
   "cell_type": "code",
   "execution_count": 39,
   "metadata": {
    "collapsed": true
   },
   "outputs": [],
   "source": [
    "os.environ[\"CUDA_VISIBLE_DEVICES\"] = \"1\""
   ]
  },
  {
   "cell_type": "code",
   "execution_count": 1,
   "metadata": {
    "collapsed": true
   },
   "outputs": [],
   "source": [
    "import gym\n",
    "import gym.spaces\n",
    "import numpy as np\n",
    "import matplotlib.pyplot as plt\n",
    "import tensorflow as tf\n",
    "import os"
   ]
  },
  {
   "cell_type": "code",
   "execution_count": 6,
   "metadata": {
    "collapsed": true
   },
   "outputs": [],
   "source": [
    "%matplotlib inline"
   ]
  },
  {
   "cell_type": "markdown",
   "metadata": {},
   "source": [
    "# Set up"
   ]
  },
  {
   "cell_type": "code",
   "execution_count": 13,
   "metadata": {
    "collapsed": true
   },
   "outputs": [],
   "source": [
    "# set up environment\n",
    "env = gym.make('CartPole-v0')"
   ]
  },
  {
   "cell_type": "code",
   "execution_count": 27,
   "metadata": {
    "collapsed": true
   },
   "outputs": [],
   "source": [
    "gamma = 0.95 # discount rate\n",
    "learning_rate = 0.01\n",
    "episodes = 100\n",
    "epochs = 100\n",
    "base_or_nah = True # baseline or not"
   ]
  },
  {
   "cell_type": "code",
   "execution_count": 15,
   "metadata": {
    "collapsed": true
   },
   "outputs": [],
   "source": [
    "state_size = 4\n",
    "n_actions = env.action_space.n #number of available actions"
   ]
  },
  {
   "cell_type": "markdown",
   "metadata": {},
   "source": [
    "# Create Neural Nets"
   ]
  },
  {
   "cell_type": "code",
   "execution_count": 30,
   "metadata": {
    "collapsed": true
   },
   "outputs": [],
   "source": [
    "class PolicyGradient():\n",
    "    def __init__(self, learning_rate=0.01, state_size=4, action_size=2, name='PolicyGradient'):\n",
    "        with tf.variable_scope(name):\n",
    "            with tf.name_scope(\"inputs\"):\n",
    "                # Store Variables\n",
    "                self.inputs_ = tf.placeholder(tf.float32, [None, state_size], name='inputs')\n",
    "                self.actions_ = tf.placeholder(tf.int32, [None, action_size], name='actions')\n",
    "                self.discounted_episodes_rewards_ = tf.placeholder(tf.float32, [None,], name=\"discounted_episodes_rewards_\")\n",
    "\n",
    "            with tf.name_scope(\"layers\"):\n",
    "                # Hidden Layers\n",
    "                self.fc1 = tf.contrib.layers.fully_connected(self.inputs_, 32, \n",
    "                                                             weights_initializer=tf.contrib.layers.xavier_initializer())\n",
    "                self.fc2 = tf.contrib.layers.fully_connected(self.fc1, 64, \n",
    "                                                             weights_initializer=tf.contrib.layers.xavier_initializer())\n",
    "                self.fc3 = tf.contrib.layers.fully_connected(self.fc2, 32, activation_fn=None, \n",
    "                                                             weights_initializer=tf.contrib.layers.xavier_initializer())\n",
    "            \n",
    "            with tf.name_scope(\"flatten\"):\n",
    "                # flatten to two values\n",
    "                self.flatten = tf.contrib.layers.flatten(self.fc3)\n",
    "                self.logits = tf.layers.dense(inputs = self.flatten, units = 2, activation = tf.nn.relu, \n",
    "                                         kernel_initializer=tf.contrib.layers.xavier_initializer_conv2d())\n",
    "            \n",
    "            with tf.name_scope(\"softmax\"):\n",
    "                # Output Layer\n",
    "                self.action_distribution = tf.nn.softmax(self.logits)\n",
    "            \n",
    "            with tf.name_scope(\"loss\"):\n",
    "                # Max reward\n",
    "                self.log_prob = tf.nn.softmax_cross_entropy_with_logits_v2(logits = self.logits, \n",
    "                                                                           labels = self.actions_)\n",
    "                self.loss = tf.reduce_mean(self.log_prob * self.discounted_episodes_rewards_)\n",
    "                self.learn = tf.train.AdamOptimizer(learning_rate).minimize(self.loss)\n",
    "\n",
    "class Baseline():\n",
    "    def __init__(self, learning_rate=0.01, state_size=4, name=\"Baseline\"):\n",
    "        with tf.variable_scope(name):\n",
    "\n",
    "            # Store Variables\n",
    "            self.inputs_ = tf.placeholder(tf.float32, [None, state_size], name='inputs')\n",
    "            self.discounted_episodes_rewards_ = tf.placeholder(tf.float32, [None,], name=\"discounted_episodes_rewards_\")\n",
    "\n",
    "            # Hidden Layers\n",
    "            self.fc1 = tf.contrib.layers.fully_connected(self.inputs_, 10, \n",
    "                                                         weights_initializer=tf.contrib.layers.xavier_initializer())\n",
    "            self.fc2 = tf.contrib.layers.fully_connected(self.fc1, 8, \n",
    "                                                         weights_initializer=tf.contrib.layers.xavier_initializer())\n",
    "            self.fc3 = tf.contrib.layers.fully_connected(self.fc2, 1, activation_fn=None, \n",
    "                                                                 weights_initializer=tf.contrib.layers.xavier_initializer())\n",
    "\n",
    "            # Define Loss\n",
    "            self.loss = tf.reduce_mean(tf.square(self.fc3 - self.discounted_episodes_rewards_), name=\"mse\")\n",
    "\n",
    "            # Adjust Network\n",
    "            self.learn = tf.train.AdamOptimizer(learning_rate).minimize(self.loss)"
   ]
  },
  {
   "cell_type": "code",
   "execution_count": 22,
   "metadata": {
    "collapsed": true
   },
   "outputs": [],
   "source": [
    "def discount_rewards(r, gamma = .95, normalize = False):\n",
    "    \"\"\"discount rewards and return a list\"\"\"\n",
    "    discount_r = np.zeros_like(r)\n",
    "    running_add = 0\n",
    "    for t in reversed(range(len(r))):\n",
    "        running_add = running_add * gamma + r[t]\n",
    "        discount_r[t] = running_add      \n",
    "    \n",
    "    if normalize:\n",
    "        mean = np.mean(discount_r)\n",
    "        std = np.std(discount_r)\n",
    "        discount_r = (discount_r - mean) / (std)\n",
    "    \n",
    "    return list(discount_r)"
   ]
  },
  {
   "cell_type": "markdown",
   "metadata": {},
   "source": [
    "# Create Instances"
   ]
  },
  {
   "cell_type": "code",
   "execution_count": 31,
   "metadata": {
    "collapsed": false
   },
   "outputs": [],
   "source": [
    "tf.reset_default_graph()\n",
    "CartPole = PolicyGradient(name = 'CartPole', learning_rate=learning_rate, state_size=state_size, action_size=n_actions)\n",
    "baseline = Baseline(name = 'Base', learning_rate=learning_rate, state_size=state_size)"
   ]
  },
  {
   "cell_type": "markdown",
   "metadata": {},
   "source": [
    "# Train network"
   ]
  },
  {
   "cell_type": "code",
   "execution_count": 40,
   "metadata": {
    "collapsed": false
   },
   "outputs": [
    {
     "data": {
      "text/plain": [
       "[<matplotlib.lines.Line2D at 0x7f899c2a9da0>]"
      ]
     },
     "execution_count": 40,
     "metadata": {},
     "output_type": "execute_result"
    },
    {
     "data": {
      "image/png": "[encoded data removed]",
      "text/plain": [
       "<matplotlib.figure.Figure at 0x7f899cfc51d0>"
      ]
     },
     "metadata": {},
     "output_type": "display_data"
    }
   ],
   "source": [
    "# Initialize the simulation\n",
    "env.reset()\n",
    "\n",
    "all_rewards = []\n",
    "\n",
    "with tf.Session() as sess: \n",
    "    sess.run(tf.global_variables_initializer())\n",
    "    \n",
    "    for epoch in range(epochs):\n",
    "        \n",
    "        # save all states, actions, and rewards that happen \n",
    "        all_states, all_actions, all_discount_rewards = [], [], []\n",
    "        running_rewards = []\n",
    "        \n",
    "        for episode in range(episodes):\n",
    "            \n",
    "            state = env.reset()\n",
    "            episode_rewards = []\n",
    "            \n",
    "            while True:            \n",
    "                # get action prob distribution\n",
    "                action_dist = sess.run(CartPole.action_distribution, \n",
    "                                       feed_dict={CartPole.inputs_: state.reshape((1,*state.shape))})\n",
    "                \n",
    "                # select action per distribution\n",
    "                action = np.random.choice(range(action_dist.shape[1]), p=action_dist.ravel())\n",
    "                new_state, reward, done, _ = env.step(action)\n",
    "                \n",
    "                # record all observed values\n",
    "                all_states.append(state)\n",
    "                episode_rewards.append(reward)\n",
    "                \n",
    "                # action 0 or 1\n",
    "                which_action = np.zeros(action_dist.shape[1])\n",
    "                which_action[action] = 1\n",
    "                all_actions.append(which_action)\n",
    "                \n",
    "                # reset current state to be new state\n",
    "                state = new_state\n",
    "                \n",
    "                if done:\n",
    "                    # Calculate discounted reward per episode\n",
    "                    dis_rewards = discount_rewards(episode_rewards)\n",
    "                    all_discount_rewards += dis_rewards\n",
    "                    \n",
    "                    # record reward per episode\n",
    "                    running_rewards.append(sum(episode_rewards))\n",
    "                    break\n",
    "        \n",
    "        if base_or_nah: \n",
    "            # baseline adjustment\n",
    "            original_r = all_discount_rewards.copy()\n",
    "            baseline_r = sess.run(baseline.fc3, feed_dict={baseline.inputs_ : np.vstack(all_states)})\n",
    "            all_discount_rewards -= np.hstack(baseline_r)\n",
    "\n",
    "            # train on baseline\n",
    "            _, _= sess.run([baseline.loss, baseline.learn], \n",
    "                        feed_dict={baseline.inputs_: np.vstack(all_states),\n",
    "                        baseline.discounted_episodes_rewards_: original_r })\n",
    "         \n",
    "        # Policy Gradient Descent Update\n",
    "        _, _= sess.run([CartPole.loss, CartPole.learn], \n",
    "                                     feed_dict={CartPole.inputs_: np.vstack(all_states),\n",
    "                                     CartPole.actions_: np.vstack(all_actions),\n",
    "                                     CartPole.discounted_episodes_rewards_: all_discount_rewards })      \n",
    "        \n",
    "        # average reward per episodes in epoch\n",
    "        all_rewards.append(np.mean(running_rewards))\n",
    "\n",
    "# rewards over training epochs\n",
    "plt.plot(all_rewards)"
   ]
  }
 ],
 "metadata": {
  "kernelspec": {
   "display_name": "Python 3",
   "language": "python",
   "name": "python3"
  },
  "language_info": {
   "codemirror_mode": {
    "name": "ipython",
    "version": 3
   },
   "file_extension": ".py",
   "mimetype": "text/x-python",
   "name": "python",
   "nbconvert_exporter": "python",
   "pygments_lexer": "ipython3",
   "version": "3.6.0"
  }
 },
 "nbformat": 4,
 "nbformat_minor": 2
}
