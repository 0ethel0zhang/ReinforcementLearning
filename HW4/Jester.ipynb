{
 "cells": [
  {
   "cell_type": "code",
   "execution_count": 1,
   "metadata": {
    "collapsed": true
   },
   "outputs": [],
   "source": [
    "import numpy as np\n",
    "import tensorflow as tf\n",
    "import numpy as np\n",
    "from collections import Counter"
   ]
  },
  {
   "cell_type": "code",
   "execution_count": 2,
   "metadata": {
    "collapsed": true
   },
   "outputs": [],
   "source": [
    "import matplotlib.pyplot as plt\n",
    "%matplotlib inline"
   ]
  },
  {
   "cell_type": "code",
   "execution_count": 3,
   "metadata": {
    "collapsed": false
   },
   "outputs": [],
   "source": [
    "def sample_jester_data(file_name, context_dim = 32, num_actions = 8, num_contexts = 19181,\n",
    "                       shuffle_rows=True, shuffle_cols=False):\n",
    "    \"\"\"Samples bandit game from (user, joke) dense subset of Jester dataset.\n",
    "    Args:\n",
    "        file_name: Route of file containing the modified Jester dataset.\n",
    "        context_dim: Context dimension (i.e. vector with some ratings from a user).\n",
    "        num_actions: Number of actions (number of joke ratings to predict).\n",
    "        num_contexts: Number of contexts to sample.\n",
    "        shuffle_rows: If True, rows from original dataset are shuffled.\n",
    "        shuffle_cols: Whether or not context/action jokes are randomly shuffled.\n",
    "    Returns:\n",
    "        dataset: Sampled matrix with rows: (context, rating_1, ..., rating_k).\n",
    "        opt_vals: Vector of deterministic optimal (reward, action) for each context.\n",
    "    \"\"\"\n",
    "    np.random.seed(0)\n",
    "    \n",
    "    with tf.gfile.Open(file_name, 'rb') as f:\n",
    "        dataset = np.load(f)\n",
    "        \n",
    "    if shuffle_cols:\n",
    "        dataset = dataset[:, np.random.permutation(dataset.shape[1])]\n",
    "    if shuffle_rows:\n",
    "        np.random.shuffle(dataset)\n",
    "    dataset = dataset[:num_contexts, :]\n",
    "        \n",
    "    assert context_dim + num_actions == dataset.shape[1], 'Wrong data dimensions.'\n",
    "    \n",
    "    opt_actions = np.argmax(dataset[:, context_dim:], axis=1)\n",
    "    opt_rewards = np.array([dataset[i, context_dim + a] for i, a in enumerate(opt_actions)])\n",
    "    \n",
    "    return dataset, opt_rewards, opt_actions"
   ]
  },
  {
   "cell_type": "markdown",
   "metadata": {},
   "source": [
    "# Get Data"
   ]
  },
  {
   "cell_type": "code",
   "execution_count": 4,
   "metadata": {
    "collapsed": false
   },
   "outputs": [],
   "source": [
    "dataset, opt_rewards, opt_actions = sample_jester_data(file_name='jester_data_40jokes_19181users.npy')"
   ]
  },
  {
   "cell_type": "markdown",
   "metadata": {},
   "source": [
    "# Train Test Split"
   ]
  },
  {
   "cell_type": "code",
   "execution_count": 5,
   "metadata": {
    "collapsed": false
   },
   "outputs": [],
   "source": [
    "train_data, train_rewards, train_actions =  dataset[:18000], opt_rewards[:18000], opt_actions[:18000]"
   ]
  },
  {
   "cell_type": "code",
   "execution_count": 6,
   "metadata": {
    "collapsed": true
   },
   "outputs": [],
   "source": [
    "test_data, test_rewards, test_actions =  dataset[18000:], opt_rewards[18000:], opt_actions[18000:]"
   ]
  },
  {
   "cell_type": "markdown",
   "metadata": {},
   "source": [
    "# Set up UCB"
   ]
  },
  {
   "cell_type": "code",
   "execution_count": 7,
   "metadata": {
    "collapsed": true
   },
   "outputs": [],
   "source": [
    "n = 18000\n",
    "k = 32 # context_dim\n",
    "n_a = 8 # num_actions\n",
    "alpha = 0.2"
   ]
  },
  {
   "cell_type": "code",
   "execution_count": null,
   "metadata": {
    "collapsed": true
   },
   "outputs": [],
   "source": [
    "# get train set values\n",
    "D = train_data[:,:32]\n",
    "true_r = train_data[:,32:]"
   ]
  },
  {
   "cell_type": "code",
   "execution_count": 8,
   "metadata": {
    "collapsed": true
   },
   "outputs": [],
   "source": [
    "#parameters\n",
    "choices, rewards = np.zeros(n), np.zeros(n)\n",
    "b = np.zeros_like((n_a,k))\n",
    "A = np.zeros((n_a, k, k))\n",
    "for a in range(0, n_a):\n",
    "    A[a] = np.identity(k)\n",
    "th_hat = np.zeros((n_a,k)) #parameters\n",
    "p = np.zeros(n_a)"
   ]
  },
  {
   "cell_type": "code",
   "execution_count": 13,
   "metadata": {
    "collapsed": false
   },
   "outputs": [],
   "source": [
    "# UCB training\n",
    "for user in range(0, n):\n",
    "    x_i = D[user]\n",
    "    for a in range(0, n_a):\n",
    "        A_inv = np.linalg.inv(A[a])\n",
    "        th_hat[a] = A_inv.dot(b[a])\n",
    "        ta = x_i.dot(A_inv).dot(x_i)\n",
    "        a_upper_pi = alpha * np.sqrt(ta)\n",
    "        a_mean = th_hat[a].dot(x_i)\n",
    "        p[a] = a_mean + a_upper_pi\n",
    "    # to break the tie\n",
    "    p = p + (np.random.random(len(p)) + 0.000001)\n",
    "    choices[user] = p.argmax()\n",
    "\n",
    "    rewards[user] = true_r[user][int(choices[user])]\n",
    "    \n",
    "    A[int(choices[user])] += np.outer(x_i,x_i)\n",
    "    b[int(choices[user])] += true_r[user][int(choices[user])] * x_i"
   ]
  },
  {
   "cell_type": "markdown",
   "metadata": {},
   "source": [
    "# Test set evaluation"
   ]
  },
  {
   "cell_type": "code",
   "execution_count": null,
   "metadata": {
    "collapsed": true
   },
   "outputs": [],
   "source": [
    "# get test set data\n",
    "D_test = test_data[:,:32]\n",
    "true_r_test = test_data[:,32:]"
   ]
  },
  {
   "cell_type": "code",
   "execution_count": 20,
   "metadata": {
    "collapsed": true
   },
   "outputs": [],
   "source": [
    "# parameters\n",
    "th = np.random.random((n_a,k)) - 0.5 \n",
    "p_test = np.zeros(n_a)\n",
    "choices_test = np.zeros(len(test_data))"
   ]
  },
  {
   "cell_type": "code",
   "execution_count": 21,
   "metadata": {
    "collapsed": true
   },
   "outputs": [],
   "source": [
    "# calculate regret\n",
    "regret = []\n",
    "for user in range(len(test_data)):\n",
    "    x_i = D_test[user]\n",
    "    \n",
    "    for a in range(n_a):\n",
    "        A_inv = np.linalg.inv(A[a])\n",
    "        th[a] = A_inv.dot(b[a])\n",
    "        \n",
    "        a_mean = th[a].dot(x_i)\n",
    "        ta = x_i.dot(A_inv).dot(x_i)\n",
    "        a_upper_pi = alpha * np.sqrt(ta)\n",
    "        p_test[a] = a_mean + a_upper_pi\n",
    "    \n",
    "    # to break the tie\n",
    "    p_test = p_test + (np.random.random(len(p_test)) + 0.000001)\n",
    "    choices_test[user] = p_test.argmax()\n",
    "    \n",
    "    user_regret = np.max(true_r_test[user]) - true_r_test[user][int(choices_test[user])]\n",
    "    regret.append(user_regret)"
   ]
  },
  {
   "cell_type": "code",
   "execution_count": 29,
   "metadata": {
    "collapsed": false
   },
   "outputs": [
    {
     "data": {
      "text/plain": [
       "<matplotlib.text.Text at 0x7f7178485978>"
      ]
     },
     "execution_count": 29,
     "metadata": {},
     "output_type": "execute_result"
    },
    {
     "data": {
      "image/png": "[encoded data removed]",
      "text/plain": [
       "<matplotlib.figure.Figure at 0x7f71787558d0>"
      ]
     },
     "metadata": {},
     "output_type": "display_data"
    }
   ],
   "source": [
    "# regret histogram on test set \n",
    "plt.hist(regret)\n",
    "plt.title(\"Distribution of UCB Trained Model Regret over Test Set\", fontsize = 12)"
   ]
  }
 ],
 "metadata": {
  "kernelspec": {
   "display_name": "Python 3",
   "language": "python",
   "name": "python3"
  },
  "language_info": {
   "codemirror_mode": {
    "name": "ipython",
    "version": 3
   },
   "file_extension": ".py",
   "mimetype": "text/x-python",
   "name": "python",
   "nbconvert_exporter": "python",
   "pygments_lexer": "ipython3",
   "version": "3.6.0"
  },
  "varInspector": {
   "cols": {
    "lenName": 16,
    "lenType": 16,
    "lenVar": 40
   },
   "kernels_config": {
    "python": {
     "delete_cmd_postfix": "",
     "delete_cmd_prefix": "del ",
     "library": "var_list.py",
     "varRefreshCmd": "print(var_dic_list())"
    },
    "r": {
     "delete_cmd_postfix": ") ",
     "delete_cmd_prefix": "rm(",
     "library": "var_list.r",
     "varRefreshCmd": "cat(var_dic_list()) "
    }
   },
   "types_to_exclude": [
    "module",
    "function",
    "builtin_function_or_method",
    "instance",
    "_Feature"
   ],
   "window_display": false
  }
 },
 "nbformat": 4,
 "nbformat_minor": 2
}
